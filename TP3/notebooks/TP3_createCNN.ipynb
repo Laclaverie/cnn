{
 "cells": [
  {
   "cell_type": "markdown",
   "metadata": {
    "id": "8Xdw5ScR9wXn"
   },
   "source": [
    "Objectif : classification"
   ]
  },
  {
   "cell_type": "markdown",
   "metadata": {
    "id": "ZAt_Odj-87gp"
   },
   "source": [
    "Imports"
   ]
  },
  {
   "cell_type": "code",
   "execution_count": 1,
   "metadata": {
    "id": "Tq2AU5kN8b3c"
   },
   "outputs": [],
   "source": [
    "import tensorflow as tf\n",
    "from tensorflow.keras.preprocessing.image import ImageDataGenerator\n",
    "import os\n",
    "import cv2\n",
    "#from google.colab.patches import cv2_imshow\n",
    "import matplotlib.pyplot as plt\n",
    "import matplotlib.image as mpimg\n",
    "from numpy.core.numeric import cross\n",
    "import matplotlib.pyplot as plt\n",
    "import pandas as pd\n",
    "from sklearn.metrics import classification_report, cohen_kappa_score\n",
    "from sklearn.preprocessing import OneHotEncoder\n",
    "from sklearn.model_selection import train_test_split\n",
    "import numpy as np\n",
    "from sklearn.metrics import accuracy_score\n",
    "import glob\n",
    "import cv2\n",
    "import time\n"
   ]
  },
  {
   "cell_type": "code",
   "execution_count": 2,
   "metadata": {
    "colab": {
     "base_uri": "https://localhost:8080/",
     "height": 35
    },
    "id": "sd77aISf9afV",
    "outputId": "5a74aaa3-bf15-4f79-c9e2-61f1b8e524eb"
   },
   "outputs": [
    {
     "data": {
      "text/plain": [
       "'2.6.0'"
      ]
     },
     "execution_count": 2,
     "metadata": {},
     "output_type": "execute_result"
    }
   ],
   "source": [
    "tf.__version__"
   ]
  },
  {
   "cell_type": "code",
   "execution_count": 3,
   "metadata": {
    "colab": {
     "base_uri": "https://localhost:8080/"
    },
    "id": "uaYTdxMa_Rlg",
    "outputId": "a4c2790c-3f86-4839-a7e9-56e10f62c273"
   },
   "outputs": [],
   "source": [
    "#from google.colab import drive\n",
    "#drive.mount('/content/drive')"
   ]
  },
  {
   "cell_type": "markdown",
   "metadata": {
    "id": "RDZNmpK9-FXZ"
   },
   "source": [
    "Preprocessing "
   ]
  },
  {
   "cell_type": "code",
   "execution_count": 4,
   "metadata": {
    "colab": {
     "base_uri": "https://localhost:8080/"
    },
    "id": "DHTStkcrBl5D",
    "outputId": "071b7f09-210d-4e15-c6ed-90e4a3dd63dd"
   },
   "outputs": [
    {
     "name": "stdout",
     "output_type": "stream",
     "text": [
      "nvcc: NVIDIA (R) Cuda compiler driver\n",
      "Copyright (c) 2005-2021 NVIDIA Corporation\n",
      "Built on Thu_Nov_18_09:52:33_Pacific_Standard_Time_2021\n",
      "Cuda compilation tools, release 11.5, V11.5.119\n",
      "Build cuda_11.5.r11.5/compiler.30672275_0\n",
      "Tue Apr  5 11:09:22 2022       \n",
      "+-----------------------------------------------------------------------------+\n",
      "| NVIDIA-SMI 496.76       Driver Version: 496.76       CUDA Version: 11.5     |\n",
      "|-------------------------------+----------------------+----------------------+\n",
      "| GPU  Name            TCC/WDDM | Bus-Id        Disp.A | Volatile Uncorr. ECC |\n",
      "| Fan  Temp  Perf  Pwr:Usage/Cap|         Memory-Usage | GPU-Util  Compute M. |\n",
      "|                               |                      |               MIG M. |\n",
      "|===============================+======================+======================|\n",
      "|   0  NVIDIA GeForce ... WDDM  | 00000000:01:00.0  On |                  N/A |\n",
      "|  0%   42C    P8     9W / 200W |   1272MiB /  8192MiB |     11%      Default |\n",
      "|                               |                      |                  N/A |\n",
      "+-------------------------------+----------------------+----------------------+\n",
      "                                                                               \n",
      "+-----------------------------------------------------------------------------+\n",
      "| Processes:                                                                  |\n",
      "|  GPU   GI   CI        PID   Type   Process name                  GPU Memory |\n",
      "|        ID   ID                                                   Usage      |\n",
      "|=============================================================================|\n",
      "|    0   N/A  N/A      2748      C   ...\\envs\\classenv\\python.exe    N/A      |\n",
      "|    0   N/A  N/A      7644    C+G   ...2txyewy\\TextInputHost.exe    N/A      |\n",
      "|    0   N/A  N/A      8740    C+G   ...ser\\Application\\brave.exe    N/A      |\n",
      "|    0   N/A  N/A     10988    C+G   ...ebView\\msedgewebview2.exe    N/A      |\n",
      "|    0   N/A  N/A     11104      C   ...\\envs\\classenv\\python.exe    N/A      |\n",
      "|    0   N/A  N/A     12652    C+G   ...185.29\\msedgewebview2.exe    N/A      |\n",
      "|    0   N/A  N/A     12920    C+G   ...ekyb3d8bbwe\\HxOutlook.exe    N/A      |\n",
      "|    0   N/A  N/A     18728    C+G   ...bbwe\\Microsoft.Photos.exe    N/A      |\n",
      "|    0   N/A  N/A     19728    C+G   ...in7x64\\steamwebhelper.exe    N/A      |\n",
      "|    0   N/A  N/A     20564    C+G   ...am Files\\Perforce\\p4v.exe    N/A      |\n",
      "|    0   N/A  N/A     20720    C+G   ...8wekyb3d8bbwe\\Cortana.exe    N/A      |\n",
      "|    0   N/A  N/A     23560    C+G   ...s\\Adobe Spaces Helper.exe    N/A      |\n",
      "|    0   N/A  N/A     27032    C+G   ...\\app-1.0.9004\\Discord.exe    N/A      |\n",
      "|    0   N/A  N/A     28316    C+G   ...wekyb3d8bbwe\\Video.UI.exe    N/A      |\n",
      "|    0   N/A  N/A     29784    C+G   ...artMenuExperienceHost.exe    N/A      |\n",
      "|    0   N/A  N/A     32248    C+G   ...fyw5nnt\\app\\Messenger.exe    N/A      |\n",
      "|    0   N/A  N/A     33884      C   ...\\app-1.0.9004\\Discord.exe    N/A      |\n",
      "|    0   N/A  N/A     34624    C+G   ...EarTrumpet\\EarTrumpet.exe    N/A      |\n",
      "|    0   N/A  N/A     35548    C+G   C:\\Windows\\explorer.exe         N/A      |\n",
      "|    0   N/A  N/A     35676    C+G   ...lPanel\\SystemSettings.exe    N/A      |\n",
      "|    0   N/A  N/A     35932    C+G   ...erver\\YourPhoneServer.exe    N/A      |\n",
      "|    0   N/A  N/A     37312    C+G   ...y\\ShellExperienceHost.exe    N/A      |\n",
      "|    0   N/A  N/A     38948    C+G   ...ekyb3d8bbwe\\YourPhone.exe    N/A      |\n",
      "|    0   N/A  N/A     40160    C+G   ...n1h2txyewy\\SearchHost.exe    N/A      |\n",
      "|    0   N/A  N/A     41340    C+G   ...toshop 2022\\Photoshop.exe    N/A      |\n",
      "|    0   N/A  N/A     41600    C+G   Insufficient Permissions        N/A      |\n",
      "+-----------------------------------------------------------------------------+\n"
     ]
    }
   ],
   "source": [
    "# check whether GPU is provided\n",
    "!nvcc --version\n",
    "# check the architecture of my gpu\n",
    "!nvidia-smi"
   ]
  },
  {
   "cell_type": "markdown",
   "metadata": {
    "id": "NYsNUKZJBj2D"
   },
   "source": [
    "Tests\n",
    "Afficher une image"
   ]
  },
  {
   "cell_type": "code",
   "execution_count": 5,
   "metadata": {},
   "outputs": [],
   "source": [
    "def cv2_imshow(img):\n",
    "    plt.imshow(cv2.cvtColor(img, cv2.COLOR_BGR2RGB ))"
   ]
  },
  {
   "cell_type": "code",
   "execution_count": 6,
   "metadata": {
    "colab": {
     "base_uri": "https://localhost:8080/",
     "height": 555
    },
    "id": "6NdIiS5aCJ4v",
    "outputId": "59fda82e-1fcc-4a6b-a279-eed97cc985ca"
   },
   "outputs": [
    {
     "data": {
      "image/png": "[encoded data removed]",
      "text/plain": [
       "<Figure size 432x288 with 1 Axes>"
      ]
     },
     "metadata": {
      "needs_background": "light"
     },
     "output_type": "display_data"
    }
   ],
   "source": [
    "path = 'drive/MyDrive/tni/archive/train/ned_flanders/pic_0003.jpg'\n",
    "\n",
    "img= cv2.imread(path)\n",
    "cv2_imshow(img)"
   ]
  },
  {
   "cell_type": "code",
   "execution_count": null,
   "metadata": {},
   "outputs": [],
   "source": []
  },
  {
   "cell_type": "markdown",
   "metadata": {
    "id": "YrRfhUxaHWZU"
   },
   "source": [
    "Prétraitement training"
   ]
  },
  {
   "cell_type": "code",
   "execution_count": 7,
   "metadata": {
    "colab": {
     "base_uri": "https://localhost:8080/"
    },
    "id": "zG-sDLbqHYRR",
    "outputId": "7078c9d2-456b-4bce-f8b8-b0713253e463"
   },
   "outputs": [
    {
     "name": "stdout",
     "output_type": "stream",
     "text": [
      "Found 12411 images belonging to 19 classes.\n",
      "Found 3091 images belonging to 19 classes.\n"
     ]
    }
   ],
   "source": [
    "train_datagen = ImageDataGenerator(\n",
    "    rescale= 1./255,\n",
    "    shear_range=0.2,\n",
    "    zoom_range=0.2,\n",
    "    horizontal_flip=True,\n",
    "    validation_split=0.2\n",
    "    \n",
    ")\n",
    "\n",
    "training_set = train_datagen.flow_from_directory(\n",
    "    'drive/MyDrive/tni/archive/train',\n",
    "    target_size=(128,128),\n",
    "    batch_size=64,\n",
    "    class_mode='categorical',\n",
    "    subset='training'\n",
    ")\n",
    "Validation_set = train_datagen.flow_from_directory(\n",
    "    'drive/MyDrive/tni/archive/train',\n",
    "    target_size=(128,128),\n",
    "    batch_size=64,\n",
    "    class_mode='categorical',\n",
    "    subset='validation'\n",
    ")"
   ]
  },
  {
   "cell_type": "markdown",
   "metadata": {
    "id": "vIfJBS-geGpf"
   },
   "source": [
    "Récupération des classes"
   ]
  },
  {
   "cell_type": "markdown",
   "metadata": {
    "id": "8po7PapyIPiM"
   },
   "source": [
    "Pretraitement testset"
   ]
  },
  {
   "cell_type": "code",
   "execution_count": 8,
   "metadata": {
    "colab": {
     "base_uri": "https://localhost:8080/"
    },
    "id": "7gPPEX35ITOu",
    "outputId": "a70c1f2f-b483-4fc1-c0d6-0f28b6bd7077"
   },
   "outputs": [
    {
     "name": "stdout",
     "output_type": "stream",
     "text": [
      "Found 950 images belonging to 19 classes.\n"
     ]
    }
   ],
   "source": [
    "test_datagen = ImageDataGenerator(\n",
    "    rescale= 1./255,\n",
    ")\n",
    "test_set = test_datagen.flow_from_directory(\n",
    "    'drive/MyDrive/tni/archive/test',\n",
    "    target_size=(128,128),\n",
    "    batch_size=64,\n",
    "    class_mode='categorical'\n",
    ")"
   ]
  },
  {
   "cell_type": "markdown",
   "metadata": {
    "id": "ifiN9njsIlYI"
   },
   "source": [
    "Creer CNN"
   ]
  },
  {
   "cell_type": "markdown",
   "metadata": {
    "id": "ILRdXVWAIpJQ"
   },
   "source": [
    "Inititalisation"
   ]
  },
  {
   "cell_type": "code",
   "execution_count": 9,
   "metadata": {
    "id": "LtRJt1jMIm7w"
   },
   "outputs": [],
   "source": [
    "cnn = tf.keras.models.Sequential()\n",
    "data_augmentation = tf.keras.Sequential(\n",
    "  [\n",
    "    tf.keras.layers.experimental.preprocessing.RandomFlip(\"horizontal\", input_shape=(128,128,3)),\n",
    "    tf.keras.layers.experimental.preprocessing.RandomRotation(0.1),\n",
    "    tf.keras.layers.experimental.preprocessing.RandomZoom(0.1),\n",
    "  ]\n",
    ")"
   ]
  },
  {
   "cell_type": "markdown",
   "metadata": {
    "id": "v13LVk7gIw8q"
   },
   "source": [
    "Convolution/pooling"
   ]
  },
  {
   "cell_type": "code",
   "execution_count": 10,
   "metadata": {
    "colab": {
     "base_uri": "https://localhost:8080/"
    },
    "id": "NUasr3ztIyQ5",
    "outputId": "03a4bf20-b79d-401c-e165-3394651d5cd7"
   },
   "outputs": [
    {
     "name": "stdout",
     "output_type": "stream",
     "text": [
      "Model: \"sequential\"\n",
      "_________________________________________________________________\n",
      "Layer (type)                 Output Shape              Param #   \n",
      "=================================================================\n",
      "sequential_1 (Sequential)    (None, 128, 128, 3)       0         \n",
      "_________________________________________________________________\n",
      "conv2d (Conv2D)              (None, 126, 126, 32)      896       \n",
      "_________________________________________________________________\n",
      "conv2d_1 (Conv2D)            (None, 124, 124, 64)      18496     \n",
      "_________________________________________________________________\n",
      "conv2d_2 (Conv2D)            (None, 122, 122, 64)      36928     \n",
      "=================================================================\n",
      "Total params: 56,320\n",
      "Trainable params: 56,320\n",
      "Non-trainable params: 0\n",
      "_________________________________________________________________\n"
     ]
    }
   ],
   "source": [
    "cnn.add(data_augmentation)\n",
    "cnn.add(tf.keras.layers.Conv2D(filters=32,kernel_size=3,activation='relu',input_shape=(128,128,3)))\n",
    "cnn.add(tf.keras.layers.Conv2D(filters=64,kernel_size=3,strides=(1,1),dilation_rate=(1, 1),activation='relu',kernel_regularizer=tf.keras.regularizers.l2(l=0.001)))\n",
    "cnn.add(tf.keras.layers.Conv2D(filters=64,kernel_size=3,strides=(1,1),dilation_rate=(1, 1),activation='relu',kernel_regularizer=tf.keras.regularizers.l2(l=0.001)))\n",
    "cnn.summary()"
   ]
  },
  {
   "cell_type": "markdown",
   "metadata": {
    "id": "64ZdDlwRKK6F"
   },
   "source": [
    "Flattenning"
   ]
  },
  {
   "cell_type": "code",
   "execution_count": 11,
   "metadata": {
    "id": "RSQx4CJpKMqp"
   },
   "outputs": [],
   "source": [
    "cnn.add(tf.keras.layers.Flatten())\n",
    "cnn.add(tf.keras.layers.BatchNormalization())\n",
    "cnn.add(tf.keras.layers.Dropout(0.2))"
   ]
  },
  {
   "cell_type": "markdown",
   "metadata": {
    "id": "FFOLAZ10KaMc"
   },
   "source": [
    "Full connection (couches cachées)"
   ]
  },
  {
   "cell_type": "code",
   "execution_count": 12,
   "metadata": {
    "id": "g7CDmsM_Kcl-"
   },
   "outputs": [],
   "source": [
    "cnn.add(tf.keras.layers.Dense(128, kernel_initializer=\"he_normal\"))\n",
    "cnn.add(tf.keras.layers.LeakyReLU(alpha=0.2))\n",
    "cnn.add(tf.keras.layers.BatchNormalization())\n",
    "cnn.add(tf.keras.layers.Dropout(0.7))"
   ]
  },
  {
   "cell_type": "markdown",
   "metadata": {
    "id": "EafavGj4Kohn"
   },
   "source": [
    "Output Layer"
   ]
  },
  {
   "cell_type": "code",
   "execution_count": 13,
   "metadata": {
    "colab": {
     "base_uri": "https://localhost:8080/"
    },
    "id": "D7MwTFdNKp6e",
    "outputId": "9a7825a6-3c66-4abf-e19f-ac4ccd8eca03"
   },
   "outputs": [
    {
     "name": "stdout",
     "output_type": "stream",
     "text": [
      "Model: \"sequential\"\n",
      "_________________________________________________________________\n",
      "Layer (type)                 Output Shape              Param #   \n",
      "=================================================================\n",
      "sequential_1 (Sequential)    (None, 128, 128, 3)       0         \n",
      "_________________________________________________________________\n",
      "conv2d (Conv2D)              (None, 126, 126, 32)      896       \n",
      "_________________________________________________________________\n",
      "conv2d_1 (Conv2D)            (None, 124, 124, 64)      18496     \n",
      "_________________________________________________________________\n",
      "conv2d_2 (Conv2D)            (None, 122, 122, 64)      36928     \n",
      "_________________________________________________________________\n",
      "flatten (Flatten)            (None, 952576)            0         \n",
      "_________________________________________________________________\n",
      "batch_normalization (BatchNo (None, 952576)            3810304   \n",
      "_________________________________________________________________\n",
      "dropout (Dropout)            (None, 952576)            0         \n",
      "_________________________________________________________________\n",
      "dense (Dense)                (None, 128)               121929856 \n",
      "_________________________________________________________________\n",
      "leaky_re_lu (LeakyReLU)      (None, 128)               0         \n",
      "_________________________________________________________________\n",
      "batch_normalization_1 (Batch (None, 128)               512       \n",
      "_________________________________________________________________\n",
      "dropout_1 (Dropout)          (None, 128)               0         \n",
      "_________________________________________________________________\n",
      "dense_1 (Dense)              (None, 19)                2451      \n",
      "=================================================================\n",
      "Total params: 125,799,443\n",
      "Trainable params: 123,894,035\n",
      "Non-trainable params: 1,905,408\n",
      "_________________________________________________________________\n"
     ]
    }
   ],
   "source": [
    "cnn.add(tf.keras.layers.Dense(units=19,activation='softmax'))\n",
    "cnn.summary()"
   ]
  },
  {
   "cell_type": "markdown",
   "metadata": {
    "id": "pBA6p427K6t6"
   },
   "source": [
    "Training model"
   ]
  },
  {
   "cell_type": "code",
   "execution_count": 14,
   "metadata": {
    "id": "UGUBiy8PK89t"
   },
   "outputs": [],
   "source": [
    "cnn.compile(optimizer='adam',loss='categorical_crossentropy',metrics=['accuracy'])"
   ]
  },
  {
   "cell_type": "code",
   "execution_count": 15,
   "metadata": {
    "colab": {
     "background_save": true,
     "base_uri": "https://localhost:8080/"
    },
    "id": "N0-l9lubLSfh",
    "outputId": "f5d0786e-6eab-4e46-a0cc-39f1f4d3444d"
   },
   "outputs": [
    {
     "name": "stdout",
     "output_type": "stream",
     "text": [
      "Epoch 1/40\n",
      "194/194 [==============================] - 81s 374ms/step - loss: 3.3257 - accuracy: 0.2188 - val_loss: 2.4754 - val_accuracy: 0.3500\n",
      "Epoch 2/40\n",
      "194/194 [==============================] - 61s 313ms/step - loss: 2.3763 - accuracy: 0.3622 - val_loss: 2.0477 - val_accuracy: 0.4565\n",
      "Epoch 3/40\n",
      "194/194 [==============================] - 61s 313ms/step - loss: 2.0305 - accuracy: 0.4299 - val_loss: 1.8056 - val_accuracy: 0.5066\n",
      "Epoch 4/40\n",
      "194/194 [==============================] - 62s 318ms/step - loss: 1.8307 - accuracy: 0.4807 - val_loss: 1.8260 - val_accuracy: 0.4756\n",
      "Epoch 5/40\n",
      "194/194 [==============================] - 64s 329ms/step - loss: 1.7292 - accuracy: 0.5104 - val_loss: 1.6987 - val_accuracy: 0.5228\n",
      "Epoch 6/40\n",
      "194/194 [==============================] - 58s 299ms/step - loss: 1.6362 - accuracy: 0.5326 - val_loss: 1.6342 - val_accuracy: 0.5286\n",
      "Epoch 7/40\n",
      "194/194 [==============================] - 60s 309ms/step - loss: 1.5649 - accuracy: 0.5562 - val_loss: 1.5665 - val_accuracy: 0.5739\n",
      "Epoch 8/40\n",
      "194/194 [==============================] - 59s 305ms/step - loss: 1.5069 - accuracy: 0.5742 - val_loss: 1.4672 - val_accuracy: 0.5998\n",
      "Epoch 9/40\n",
      "194/194 [==============================] - 59s 304ms/step - loss: 1.4400 - accuracy: 0.5902 - val_loss: 1.4333 - val_accuracy: 0.5959\n",
      "Epoch 10/40\n",
      "194/194 [==============================] - 60s 307ms/step - loss: 1.4032 - accuracy: 0.6057 - val_loss: 1.4535 - val_accuracy: 0.5827\n",
      "Epoch 11/40\n",
      "194/194 [==============================] - 60s 308ms/step - loss: 1.3265 - accuracy: 0.6260 - val_loss: 1.3182 - val_accuracy: 0.6276\n",
      "Epoch 12/40\n",
      "194/194 [==============================] - 59s 302ms/step - loss: 1.2882 - accuracy: 0.6314 - val_loss: 1.3473 - val_accuracy: 0.6448\n",
      "Epoch 13/40\n",
      "194/194 [==============================] - 59s 303ms/step - loss: 1.2286 - accuracy: 0.6566 - val_loss: 1.2398 - val_accuracy: 0.6619\n",
      "Epoch 14/40\n",
      "194/194 [==============================] - 59s 304ms/step - loss: 1.2144 - accuracy: 0.6645 - val_loss: 1.3439 - val_accuracy: 0.6302\n",
      "Epoch 15/40\n",
      "194/194 [==============================] - 60s 308ms/step - loss: 1.1689 - accuracy: 0.6709 - val_loss: 1.2791 - val_accuracy: 0.6555\n",
      "Epoch 16/40\n",
      "194/194 [==============================] - 57s 291ms/step - loss: 1.1346 - accuracy: 0.6798 - val_loss: 1.2522 - val_accuracy: 0.6639\n",
      "Epoch 17/40\n",
      "194/194 [==============================] - 59s 303ms/step - loss: 1.1224 - accuracy: 0.6908 - val_loss: 1.1766 - val_accuracy: 0.6752\n",
      "Epoch 18/40\n",
      "194/194 [==============================] - 58s 297ms/step - loss: 1.0862 - accuracy: 0.6971 - val_loss: 1.2542 - val_accuracy: 0.6619\n",
      "Epoch 19/40\n",
      "194/194 [==============================] - 59s 302ms/step - loss: 1.0781 - accuracy: 0.7003 - val_loss: 1.2642 - val_accuracy: 0.6674\n",
      "Epoch 20/40\n",
      "194/194 [==============================] - 58s 298ms/step - loss: 1.0442 - accuracy: 0.7108 - val_loss: 1.1384 - val_accuracy: 0.6940\n",
      "Epoch 21/40\n",
      "194/194 [==============================] - 59s 302ms/step - loss: 1.0262 - accuracy: 0.7111 - val_loss: 1.1834 - val_accuracy: 0.6787\n",
      "Epoch 22/40\n",
      "194/194 [==============================] - 58s 296ms/step - loss: 0.9913 - accuracy: 0.7278 - val_loss: 1.0878 - val_accuracy: 0.7088\n",
      "Epoch 23/40\n",
      "194/194 [==============================] - 60s 308ms/step - loss: 0.9910 - accuracy: 0.7302 - val_loss: 1.1164 - val_accuracy: 0.7062\n",
      "Epoch 24/40\n",
      "194/194 [==============================] - 59s 305ms/step - loss: 0.9772 - accuracy: 0.7316 - val_loss: 1.1347 - val_accuracy: 0.7062\n",
      "Epoch 25/40\n",
      "194/194 [==============================] - 59s 303ms/step - loss: 0.9472 - accuracy: 0.7425 - val_loss: 1.0974 - val_accuracy: 0.7143\n",
      "Epoch 26/40\n",
      "194/194 [==============================] - 61s 313ms/step - loss: 0.9385 - accuracy: 0.7414 - val_loss: 1.0630 - val_accuracy: 0.7227\n",
      "Epoch 27/40\n",
      "194/194 [==============================] - 58s 298ms/step - loss: 0.9233 - accuracy: 0.7474 - val_loss: 1.1054 - val_accuracy: 0.7098\n",
      "Epoch 28/40\n",
      "194/194 [==============================] - 59s 302ms/step - loss: 0.9088 - accuracy: 0.7513 - val_loss: 1.3923 - val_accuracy: 0.6665\n",
      "Epoch 29/40\n",
      "194/194 [==============================] - 58s 297ms/step - loss: 0.9172 - accuracy: 0.7501 - val_loss: 1.1699 - val_accuracy: 0.7069\n",
      "Epoch 30/40\n",
      "194/194 [==============================] - 62s 320ms/step - loss: 0.8836 - accuracy: 0.7584 - val_loss: 1.2333 - val_accuracy: 0.6820\n",
      "Epoch 31/40\n",
      "194/194 [==============================] - 64s 328ms/step - loss: 0.8650 - accuracy: 0.7610 - val_loss: 1.1625 - val_accuracy: 0.7172\n"
     ]
    }
   ],
   "source": [
    "early_stopping=tf.keras.callbacks.EarlyStopping(\n",
    "    monitor=\"val_accuracy\",\n",
    "    patience=5,\n",
    "    mode=\"auto\",\n",
    "    restore_best_weights=True,\n",
    ")\n",
    "history = cnn.fit(x=training_set,validation_data=Validation_set,epochs=40,callbacks=[early_stopping],use_multiprocessing=False)"
   ]
  },
  {
   "cell_type": "code",
   "execution_count": 16,
   "metadata": {
    "colab": {
     "base_uri": "https://localhost:8080/",
     "height": 298
    },
    "id": "jS_v1bdyQ1U3",
    "outputId": "be065af1-6957-4df3-adec-2060ac75439f"
   },
   "outputs": [
    {
     "name": "stdout",
     "output_type": "stream",
     "text": [
      "15/15 - 3s - loss: 0.9659 - accuracy: 0.7389\n"
     ]
    },
    {
     "data": {
      "image/png": "[encoded data removed]",
      "text/plain": [
       "<Figure size 864x288 with 2 Axes>"
      ]
     },
     "metadata": {
      "needs_background": "light"
     },
     "output_type": "display_data"
    }
   ],
   "source": [
    "history_df = pd.DataFrame(history.history)\n",
    "plt.figure(figsize=(12,4))\n",
    "plt.subplot(1,2,1)\n",
    "plt.plot(history_df['loss'], label='training loss')\n",
    "plt.plot(history_df['val_loss'], label='validation loss')\n",
    "plt.title('Model Loss Function')\n",
    "plt.legend()\n",
    "plt.subplot(1,2,2)\n",
    "plt.plot(history_df['accuracy'], label='training accuracy')\n",
    "plt.plot(history_df['val_accuracy'], label='validation accuracy')\n",
    "plt.title('Model Accuracy')\n",
    "plt.legend()\n",
    "\n",
    "test_loss, test_acc = cnn.evaluate(test_set,verbose=2) "
   ]
  },
  {
   "cell_type": "markdown",
   "metadata": {
    "id": "E8aPj4tA7rLe"
   },
   "source": [
    "Rapport sklearn.metrics.classification_report()"
   ]
  },
  {
   "cell_type": "code",
   "execution_count": 17,
   "metadata": {
    "colab": {
     "base_uri": "https://localhost:8080/"
    },
    "id": "ax8BK7Uq7yuG",
    "outputId": "2fb28573-5888-4990-9de7-92bfbf9e1058"
   },
   "outputs": [
    {
     "name": "stdout",
     "output_type": "stream",
     "text": [
      "C:\\Users\\Thiba\n",
      "{'abraham_grampa_simpson': 713, 'apu_nahasapeemapetilon': 423, 'bart_simpson': 1142, 'charles_montgomery_burns': 993, 'chief_wiggum': 786, 'comic_book_guy': 269, 'edna_krabappel': 257, 'homer_simpson': 2046, 'kent_brockman': 298, 'krusty_the_clown': 1006, 'lenny_leonard': 110, 'lisa_simpson': 1154, 'marge_simpson': 1091, 'milhouse_van_houten': 879, 'moe_szyslak': 1252, 'ned_flanders': 1254, 'nelson_muntz': 158, 'principal_skinner': 994, 'sideshow_bob': 677}\n",
      "              precision    recall  f1-score   support\n",
      "\n",
      "           0       0.00      0.00      0.00       101\n",
      "           1       0.40      0.03      0.06        63\n",
      "           2       0.31      0.06      0.11       154\n",
      "           3       0.45      0.36      0.40       168\n",
      "           4       0.80      0.10      0.18       120\n",
      "           5       0.20      0.26      0.23        46\n",
      "           6       0.44      0.13      0.21        30\n",
      "           7       0.37      0.56      0.44       288\n",
      "           8       0.44      0.22      0.30        49\n",
      "           9       0.73      0.52      0.61       140\n",
      "          10       0.00      0.00      0.00        18\n",
      "          11       0.28      0.58      0.38       185\n",
      "          12       0.39      0.82      0.53       174\n",
      "          13       0.40      0.72      0.51       133\n",
      "          14       0.39      0.43      0.41       185\n",
      "          15       0.29      0.04      0.06       197\n",
      "          16       0.04      0.04      0.04        27\n",
      "          17       0.29      0.33      0.31       147\n",
      "          18       0.31      0.30      0.30       101\n",
      "\n",
      "    accuracy                           0.37      2326\n",
      "   macro avg       0.34      0.29      0.27      2326\n",
      "weighted avg       0.38      0.37      0.32      2326\n",
      "\n"
     ]
    },
    {
     "name": "stderr",
     "output_type": "stream",
     "text": [
      "C:\\Users\\Thiba\\anaconda3\\envs\\classenv\\lib\\site-packages\\sklearn\\metrics\\_classification.py:1318: UndefinedMetricWarning: Precision and F-score are ill-defined and being set to 0.0 in labels with no predicted samples. Use `zero_division` parameter to control this behavior.\n",
      "  _warn_prf(average, modifier, msg_start, len(result))\n",
      "C:\\Users\\Thiba\\anaconda3\\envs\\classenv\\lib\\site-packages\\sklearn\\metrics\\_classification.py:1318: UndefinedMetricWarning: Precision and F-score are ill-defined and being set to 0.0 in labels with no predicted samples. Use `zero_division` parameter to control this behavior.\n",
      "  _warn_prf(average, modifier, msg_start, len(result))\n",
      "C:\\Users\\Thiba\\anaconda3\\envs\\classenv\\lib\\site-packages\\sklearn\\metrics\\_classification.py:1318: UndefinedMetricWarning: Precision and F-score are ill-defined and being set to 0.0 in labels with no predicted samples. Use `zero_division` parameter to control this behavior.\n",
      "  _warn_prf(average, modifier, msg_start, len(result))\n"
     ]
    }
   ],
   "source": [
    "SEED = int(time.time())\n",
    "\n",
    "\n",
    "absolute_path = os.path.abspath(os.curdir)\n",
    "print(absolute_path)\n",
    "main_path = \"drive/MyDrive/tni/archive\"\n",
    "main_path = os.path.join(absolute_path, main_path)\n",
    "train_path = os.path.join(main_path,\"train\")\n",
    "\n",
    "filenames= os.listdir(train_path) # Récuperer les sous dossiers dans le chemin\n",
    "names = []\n",
    "for filename in filenames: # Attribuer un dossier à chaque nom\n",
    "  names.append(filename)\n",
    "train_list = []\n",
    "names.sort()\n",
    "for name in names:\n",
    "  train_list.extend(glob.glob(train_path+\"/\"+name+\"/*.jpg\"))\n",
    "name_img_counts = {}\n",
    "for name in names:\n",
    "  name_img_counts[name] = len(os.listdir(train_path+\"/\"+name))\n",
    "print(name_img_counts)\n",
    "np_array = []\n",
    "\n",
    "\n",
    "for name in names:\n",
    "  np_array = np.append(\n",
    "  np_array, [(name[:8] + '..') if len(name) > 8 else name]*name_img_counts[name]\n",
    ")\n",
    "\n",
    "df_train = pd.DataFrame(np_array, columns = ['label'])\n",
    "df_train['image'] = [x for x in train_list]\n",
    "\n",
    "\n",
    "path = main_path+'/train'\n",
    "#List of image:\n",
    "img_list = list(df_train['image'])\n",
    "data_img = []\n",
    "for each in img_list:\n",
    "  #Each image path:\n",
    "  each_path = os.path.join(path, each)\n",
    "  #Read each image:\n",
    "  each_img = plt.imread(each_path)\n",
    "  #Resize the images:\n",
    "  each_img_resized = cv2.resize(each_img, (128,128))\n",
    "  #Save arrays to a list:\n",
    "  data_img.append(each_img_resized)\n",
    "  # Converting list to numpy array\n",
    "\n",
    "X = np.array(data_img)\n",
    "\n",
    "y = OneHotEncoder(dtype='int8', sparse=False).fit_transform(df_train['label'].values.reshape(-1,1))\n",
    "\n",
    "X_data, X_test, y_data, y_test = train_test_split(X, y, test_size=0.15,random_state=SEED)\n",
    "X_train, X_val, y_train, y_val = train_test_split(X_data, y_data, test_size=0.2, random_state=SEED)\n",
    "\n",
    "y_pred = cnn.predict(X_test)\n",
    "# Converting prediction classes from one hot encoding to list\n",
    "# Argmax returns the position of the largest value\n",
    "y_pred_classes = np.argmax(y_pred, axis = 1)\n",
    "# Convert test labels from one hot encoding to list\n",
    "y_test_classes = np.argmax(y_test, axis = 1)\n",
    "print(classification_report(y_test_classes, y_pred_classes))"
   ]
  },
  {
   "cell_type": "markdown",
   "metadata": {
    "id": "BbPsEtb67zXx"
   },
   "source": [
    "coefficient de kappa du classeur"
   ]
  },
  {
   "cell_type": "code",
   "execution_count": 18,
   "metadata": {
    "colab": {
     "base_uri": "https://localhost:8080/"
    },
    "id": "eDl5W3nn74Gv",
    "outputId": "45836bb3-3a7b-4005-ac60-a08ab26005f8"
   },
   "outputs": [
    {
     "data": {
      "text/plain": [
       "0.31653501418009133"
      ]
     },
     "execution_count": 18,
     "metadata": {},
     "output_type": "execute_result"
    }
   ],
   "source": [
    "cohen_kappa_score(y_test_classes, y_pred_classes)"
   ]
  },
  {
   "cell_type": "code",
   "execution_count": null,
   "metadata": {},
   "outputs": [],
   "source": []
  }
 ],
 "metadata": {
  "accelerator": "GPU",
  "colab": {
   "collapsed_sections": [],
   "name": "TP3-createCNN.ipynb",
   "provenance": []
  },
  "kernelspec": {
   "display_name": "Python 3 (ipykernel)",
   "language": "python",
   "name": "python3"
  },
  "language_info": {
   "codemirror_mode": {
    "name": "ipython",
    "version": 3
   },
   "file_extension": ".py",
   "mimetype": "text/x-python",
   "name": "python",
   "nbconvert_exporter": "python",
   "pygments_lexer": "ipython3",
   "version": "3.8.13"
  }
 },
 "nbformat": 4,
 "nbformat_minor": 1
}
